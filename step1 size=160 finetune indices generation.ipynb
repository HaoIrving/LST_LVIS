{
 "cells": [
  {
   "cell_type": "code",
   "execution_count": 1,
   "metadata": {},
   "outputs": [],
   "source": [
    "import torchvision\n",
    "import os, sys\n",
    "import argparse\n",
    "import numpy as np\n",
    "from collections import defaultdict\n",
    "import json\n",
    "import time\n",
    "import multiprocessing\n",
    "import copy\n",
    "import os\n",
    "import os.path as osp\n",
    "# from utils import IdGenerator, id2rgb\n",
    "import pdb\n",
    "import torch\n",
    "import numpy as np\n",
    "try:\n",
    "    import PIL.Image     as Image\n",
    "except:\n",
    "    print(\"Failed to import the image processing packages.\")\n",
    "    sys.exit(-1)\n",
    "from pycocotools.coco import COCO\n",
    "import numpy as np\n",
    "# import skimage.io as io\n",
    "\n",
    "import random\n",
    "import numpy as np\n",
    "import itertools as it\n",
    "import torch\n",
    "import torchvision\n",
    "import json\n",
    "import bisect\n",
    "import copy\n"
   ]
  },
  {
   "cell_type": "code",
   "execution_count": 3,
   "metadata": {},
   "outputs": [],
   "source": [
    "def _quantize(x, bins):\n",
    "    bins = copy.copy(bins)\n",
    "    bins = sorted(bins)\n",
    "    quantized = list(map(lambda y: bisect.bisect_right(bins, y), x))\n",
    "    return quantized\n",
    "\n",
    "\n",
    "min_keypoints_per_image = 10\n",
    "\n",
    "\n",
    "def _count_visible_keypoints(anno):\n",
    "    return sum(sum(1 for v in ann[\"keypoints\"][2::3] if v > 0) for ann in anno)\n",
    "\n",
    "\n",
    "def _has_only_empty_bbox(anno):\n",
    "    return all(any(o <= 1 for o in obj[\"bbox\"][2:]) for obj in anno)\n",
    "\n",
    "\n",
    "def has_valid_annotation(anno):\n",
    "    # if it's empty, there is no annotation\n",
    "    if len(anno) == 0:\n",
    "        return False\n",
    "    # if all boxes have close to zero area, there is no annotation\n",
    "    if _has_only_empty_bbox(anno):\n",
    "        return False\n",
    "    # keypoints task have a slight different critera for considering\n",
    "    # if an annotation is valid\n",
    "    if \"keypoints\" not in anno[0]:\n",
    "        return True\n",
    "    # for keypoint detection tasks, only consider valid images those\n",
    "    # containing at least min_keypoints_per_image\n",
    "    if _count_visible_keypoints(anno) >= min_keypoints_per_image:\n",
    "        return True\n",
    "    return False\n",
    "\n",
    "class COCODataset(torchvision.datasets.coco.CocoDetection):\n",
    "    def __init__(self, root, ann_file, sorted_id=id_step1, remove_images_without_annotations=False):\n",
    "        super(COCODataset, self).__init__(root, ann_file)\n",
    "        self.ids = sorted(self.ids)\n",
    "\n",
    "        # filter images without detection annotations\n",
    "        if remove_images_without_annotations:\n",
    "            ids = []\n",
    "            for img_id in self.ids:\n",
    "                ann_ids = self.coco.getAnnIds(imgIds=img_id, catIds = sorted_id,iscrowd=None)\n",
    "#                 ann_ids = self.coco.getAnnIds(imgIds=img_id, iscrowd=None)\n",
    "\n",
    "                anno = self.coco.loadAnns(ann_ids)\n",
    "                if has_valid_annotation(anno):\n",
    "                    ids.append(img_id)\n",
    "            self.ids = ids\n",
    "\n",
    "        self.categories = {cat['id']: cat['name'] for cat in self.coco.cats.values()}\n",
    "\n",
    "        self.category_id_to_sorted_id = {\n",
    "            v: i + 1 for i, v in enumerate(sorted_id)\n",
    "        }\n",
    "        self.sorted_id_to_category_id = {\n",
    "            v: k for k, v in self.category_id_to_sorted_id.items()\n",
    "        }\n",
    "        self.id_to_img_map = {k: v for k, v in enumerate(self.ids)}\n",
    "        self.img_map_to_id = {v: k for k, v in self.id_to_img_map.items()}\n",
    "\n",
    "#         self._transforms = transforms\n",
    "        \n",
    "    def __getitem__(self, idx):\n",
    "        img, anno = super(COCODataset, self).__getitem__(idx)\n",
    "#         print(anno)\n",
    "        return img, anno, idx\n",
    "    \n",
    "    def get_img_info(self, index):\n",
    "        img_id = self.id_to_img_map[index]\n",
    "        img_data = self.coco.imgs[img_id]\n",
    "        return img_data"
   ]
  },
  {
   "cell_type": "code",
   "execution_count": 4,
   "metadata": {},
   "outputs": [
    {
     "data": {
      "text/plain": [
       "160"
      ]
     },
     "execution_count": 4,
     "metadata": {},
     "output_type": "execute_result"
    }
   ],
   "source": [
    "len(id_step1[-nStep:])"
   ]
  },
  {
   "cell_type": "code",
   "execution_count": 7,
   "metadata": {},
   "outputs": [],
   "source": [
    "save_path = '/mnt/data-disk2/xinting/project/dataset/LVIS/lvis_trainval_1230/lvis_step1_160'\n",
    "data_path = '/mnt/data-disk2/xinting/project/dataset/LVIS/lvis_trainval_1230/lvis_step1_2'\n",
    "# os.mkdir(save_path)\n",
    "sorted_cls_id_file = os.path.join(data_path,'lvis_sorted_id_step1.json')\n",
    "with open(sorted_cls_id_file, 'r') as f:\n",
    "    sorted_cls_id = json.load(f)\n",
    "    \n",
    "train_step1_json_file = data_path + \"/lvis_v0.5_train_step1.json\"\n",
    "train_data_path = './dataset/LVIS/images/train2017'\n",
    "\n",
    "with open(train_step1_json_file, 'r') as f:\n",
    "    train_step1 = json.load(f)\n"
   ]
  },
  {
   "cell_type": "code",
   "execution_count": 17,
   "metadata": {},
   "outputs": [
    {
     "name": "stdout",
     "output_type": "stream",
     "text": [
      "loading annotations into memory...\n",
      "Done (t=13.11s)\n",
      "creating index...\n",
      "index created!\n"
     ]
    }
   ],
   "source": [
    "nBase = 270\n",
    "nAccum = 20\n",
    "nGpu = 8 \n",
    "nStep = 160\n",
    "nIter = 100\n",
    "Step = 1\n",
    "\n",
    "id_step1 = sorted_cls_id[:nBase+nStep*Step]\n",
    "coco_step1 = COCODataset(train_data_path, train_step1_json_file, id_step1, True)"
   ]
  },
  {
   "cell_type": "code",
   "execution_count": 18,
   "metadata": {},
   "outputs": [],
   "source": [
    "train_images_step1 = []\n",
    "train_images_per_c_step1 = []\n",
    "for class_i in id_step1:\n",
    "    img_ids_cls_i_wo_select = coco_step1.coco.getImgIds(catIds=class_i)\n",
    "    img_ids_cls_i = []\n",
    "    for img_id_cls_i in img_ids_cls_i_wo_select:\n",
    "        ann_ids = coco_step1.coco.getAnnIds(imgIds=img_id_cls_i, catIds = class_i,iscrowd=None)\n",
    "#                 ann_ids = self.coco.getAnnIds(imgIds=img_id, iscrowd=None)\n",
    "        anno = coco_step1.coco.loadAnns(ann_ids)\n",
    "#         print(anno)\n",
    "        if has_valid_annotation(anno):\n",
    "            img_ids_cls_i.append(img_id_cls_i)\n",
    "        else:\n",
    "            print(img_id_cls_i)\n",
    "#     if class_i in id_step1[-nStep:]:\n",
    "#         img_ids_cls_i = list(set(img_ids_cls_i).intersection((set(coco_train_tail.ids))))\n",
    "    train_images_step1.extend(img_ids_cls_i)\n",
    "    train_images_per_c_step1.append(img_ids_cls_i)\n",
    "\n",
    "tail_idx_step1 = list(range(nBase+nStep*(Step-1),nBase+nStep*Step))\n",
    "tail_images_step1 = []\n",
    "all_tail_images_step1 = []\n",
    "for idx_c in tail_idx_step1:    \n",
    "    tail_images_step1.append([coco_step1.img_map_to_id[idx] for idx in train_images_per_c_step1[idx_c]])\n",
    "    all_tail_images_step1.extend([coco_step1.img_map_to_id[idx] for idx in train_images_per_c_step1[idx_c]])"
   ]
  },
  {
   "cell_type": "code",
   "execution_count": 19,
   "metadata": {},
   "outputs": [
    {
     "name": "stdout",
     "output_type": "stream",
     "text": [
      "images number: 16349\n"
     ]
    }
   ],
   "source": [
    "print('images number:',len(all_tail_images_step1))"
   ]
  },
  {
   "cell_type": "markdown",
   "metadata": {},
   "source": [
    "## construct random sample indices_qry:"
   ]
  },
  {
   "cell_type": "code",
   "execution_count": 59,
   "metadata": {},
   "outputs": [],
   "source": [
    "nIterAll = 160000\n",
    "total_iteration = nIterAll\n",
    "all_tail_images_step1 = []\n",
    "for tail_image_step1 in tail_images_step1:\n",
    "    all_tail_images_step1.extend(tail_image_step1)\n",
    "all_tail_images_step1 = list(np.unique(np.array(all_tail_images_step1)))\n",
    "epochs = int(np.floor(total_iteration/len(all_tail_images_step1)))\n",
    "iter_img_id = []\n",
    "for epoch in range(epochs):\n",
    "    g = torch.Generator()\n",
    "    g.manual_seed(epoch)\n",
    "    index_i = torch.randperm(len(all_tail_images_step1), generator=g).tolist()\n",
    "    img_id_i = [all_tail_images_step1[index] for index in index_i]\n",
    "    iter_img_id.extend(img_id_i)\n",
    "iter_img_id += all_tail_images_step1[: (total_iteration - len(iter_img_id))]\n",
    "\n",
    "\n",
    "iter_img_id_reshape = np.array(iter_img_id).reshape((nGpu, -1))\n",
    "iter_img_id_qry = iter_img_id_reshape.tolist()\n",
    "# json.dump(iter_img_id_qry, open(os.path.join(save_path, 'lvis_indices_qry_step1_rand.json'), 'w'))\n"
   ]
  },
  {
   "cell_type": "code",
   "execution_count": null,
   "metadata": {},
   "outputs": [],
   "source": [
    "# 查看每个类的instance个数\n",
    "ids = []\n",
    "ids_len = []\n",
    "ann_num = [0] *len(id_step1)\n",
    "\n",
    "for index, class_i in enumerate(id_step1):\n",
    "    ids_i = []\n",
    "    for img_id in all_tail_images_step1:\n",
    "        ann_ids = coco_step1.coco.getAnnIds(imgIds=coco_step1.id_to_img_map[img_id], catIds = class_i,iscrowd=None)    \n",
    "        anno = coco_step1.coco.loadAnns(ann_ids)\n",
    "        ann_num[index] += len(anno)\n",
    "        if has_valid_annotation(anno):\n",
    "            ids_i.append(img_id)\n",
    "    ids.append(ids_i)\n",
    "    ids_len.append(len(ids_i))"
   ]
  },
  {
   "cell_type": "code",
   "execution_count": null,
   "metadata": {},
   "outputs": [],
   "source": [
    "import matplotlib\n",
    "%matplotlib inline\n",
    "import pylab\n",
    "import matplotlib.pyplot as plt\n",
    "from matplotlib.ticker import  MultipleLocator\n",
    "# matplotlib.use('Agg')\n",
    "\n",
    "plt.rcParams['xtick.direction'] = 'in'\n",
    "plt.rcParams['ytick.direction'] = 'in'\n",
    "pylab.rcParams['figure.figsize'] = (20.0, 7.0)\n",
    "\n",
    "x=range(len(id_step1))[100:]\n",
    "y=ann_num[100:]\n",
    "\n",
    "fig = plt.figure()\n",
    "ax = fig.gca()\n",
    "\n",
    "ymajorLocator = MultipleLocator(300)     \n",
    "yminorLocator = MultipleLocator(150)       \n",
    "ax.yaxis.set_major_locator(ymajorLocator)       \n",
    "ax.yaxis.set_minor_locator(yminorLocator)\n",
    "\n",
    "plt.plot(x,y, linewidth=3.0)\n",
    "\n",
    "# plt.yscale('log') #choose log or not\n",
    "plt.xticks(fontsize=22)\n",
    "plt.yticks(fontsize=22)\n",
    "# 设置坐标标签字体大小\n",
    "\n",
    "font1 = {'family':'serif','weight': 'normal','size': 28}\n",
    "ax.set_xlabel('Sorted category index', font1)\n",
    "ax.set_ylabel('Number of instances', font1)\n",
    "# plt.legend(frameon=False)\n",
    "\n",
    "plt.grid(linestyle='-.',which='both')\n",
    "ax.spines['top'].set_visible(False)\n",
    "ax.spines['right'].set_visible(False)\n",
    "ax.spines['bottom'].set_linewidth(2);###设置底部坐标轴的粗细\n",
    "ax.spines['left'].set_linewidth(2);####设置左边坐标轴的粗细"
   ]
  },
  {
   "cell_type": "markdown",
   "metadata": {},
   "source": [
    "## construct balnced indices_qry:"
   ]
  },
  {
   "cell_type": "code",
   "execution_count": 28,
   "metadata": {},
   "outputs": [],
   "source": [
    "all_tail_images_step1 = []\n",
    "all_tail_classes_step1 = []\n",
    "for tail_id, tail_image_step1 in enumerate(tail_images_step1):\n",
    "    all_tail_images_step1.extend(tail_image_step1)\n",
    "    all_tail_classes_step1.extend([nBase + nStep*(Step-1)+tail_id+1]*len(tail_image_step1))"
   ]
  },
  {
   "cell_type": "code",
   "execution_count": 29,
   "metadata": {},
   "outputs": [],
   "source": [
    "ids = []\n",
    "ids_len = []\n",
    "ann_num_all_dataset = [0] *len(id_step1)\n",
    "\n",
    "for index, class_i in enumerate(id_step1):\n",
    "    ids_i = []\n",
    "    for img_id in coco_train.ids:\n",
    "        ann_ids = coco_train.coco.getAnnIds(imgIds=img_id, catIds = class_i,iscrowd=None)    \n",
    "        anno = coco_train.coco.loadAnns(ann_ids)\n",
    "        ann_num_all_dataset[index] += len(anno)\n",
    "        if has_valid_annotation(anno):\n",
    "            ids_i.append(img_id)\n",
    "    ids.append(ids_i)\n",
    "    ids_len.append(len(ids_i))"
   ]
  },
  {
   "cell_type": "code",
   "execution_count": 30,
   "metadata": {},
   "outputs": [],
   "source": [
    "avg_num_per_img = np.array(ann_num_all_dataset)/np.array(ids_len)\n",
    "avg_sample_num = np.round(np.mean(ann_num_all_dataset[-nStep:])/avg_num_per_img)[:nBase+nStep*(Step-1)]\n"
   ]
  },
  {
   "cell_type": "code",
   "execution_count": 32,
   "metadata": {},
   "outputs": [
    {
     "data": {
      "text/plain": [
       "12852"
      ]
     },
     "execution_count": 32,
     "metadata": {},
     "output_type": "execute_result"
    }
   ],
   "source": [
    "len(np.unique(np.array(all_tail_images_step1)))"
   ]
  },
  {
   "cell_type": "code",
   "execution_count": 33,
   "metadata": {},
   "outputs": [
    {
     "name": "stdout",
     "output_type": "stream",
     "text": [
      "16349\n"
     ]
    }
   ],
   "source": [
    "print(len(all_tail_images_step1))"
   ]
  },
  {
   "cell_type": "code",
   "execution_count": 34,
   "metadata": {},
   "outputs": [
    {
     "data": {
      "text/plain": [
       "41499"
      ]
     },
     "execution_count": 34,
     "metadata": {},
     "output_type": "execute_result"
    }
   ],
   "source": [
    "len(all_tail_images_step1)+int(sum(avg_sample_num))"
   ]
  },
  {
   "cell_type": "code",
   "execution_count": 35,
   "metadata": {},
   "outputs": [],
   "source": [
    "nIter = 160000\n",
    "nGpu=4\n",
    "total_iteration = nIter*nGpu\n",
    "epochs = int(np.floor(total_iteration/(len(all_tail_images_step1)+int(sum(avg_sample_num)))))\n",
    "iter_img_id = []\n",
    "iter_cls_id = []\n",
    "for epoch in range(epochs):\n",
    "    \n",
    "    replay_indices_step1 = []\n",
    "    \n",
    "    g = torch.Generator()\n",
    "    g.manual_seed(epoch)\n",
    "    \n",
    "    \n",
    "    replay_images_step1=[]\n",
    "    replay_images_imgid_step1=[]\n",
    "    \n",
    "    for i in range(nBase+nStep*(Step-1)):\n",
    "        train_images_i_id = [coco_step1.img_map_to_id[idx] for idx in train_images_per_c_step1[i]]\n",
    "        if int(avg_sample_num[i]) == 0:\n",
    "            avg_sample_num[i] = 1\n",
    "#         index_i = torch.randperm(len(train_images_i_id), generator=g).tolist()[:int(avg_sample_num[i])]\n",
    "        index_i = torch.randint(0, len(train_images_i_id), (int(avg_sample_num[i]),1), generator=g).squeeze(1).tolist()\n",
    "        img_id_replay_i = np.array(train_images_i_id)[index_i] \n",
    "        train_images_i = np.array(train_images_per_c_step1[i])[index_i]\n",
    "        \n",
    "        replay_indices_step1.extend([i+1]*int(avg_sample_num[i]))\n",
    "        replay_images_step1.extend(img_id_replay_i.tolist())   \n",
    "        replay_images_imgid_step1.append(train_images_i.tolist())\n",
    "#         print(replay_indices_step1)\n",
    "    \n",
    "    \n",
    "    all_balance_images_step1 = all_tail_images_step1 + replay_images_step1\n",
    "    all_balance_classes_step1 = all_tail_classes_step1 + replay_indices_step1\n",
    "#     print(len(all_balance_images_step1))\n",
    "#     print(len(all_balance_classes_step1))\n",
    "    \n",
    "    index_i = torch.randperm(len(all_balance_images_step1), generator=g).tolist()\n",
    "    img_id_i = [all_balance_images_step1[index] for index in index_i]\n",
    "    cls_id_i = [all_balance_classes_step1[index] for index in index_i]\n",
    "    iter_img_id.extend(img_id_i)\n",
    "    iter_cls_id.extend(cls_id_i)\n",
    "#     print(len(iter_cls_id))\n",
    "#     print(len(iter_img_id))\n",
    "# print(len(iter_cls_id))\n",
    "# print(len(iter_img_id))\n",
    "iter_img_id += all_balance_images_step1[: (total_iteration - len(iter_img_id))]\n",
    "iter_cls_id += all_balance_classes_step1[: (total_iteration - len(iter_cls_id))]\n",
    "\n",
    "iter_img_id_reshape = np.array(iter_img_id).reshape((nGpu, nIter))\n",
    "iter_cls_id_reshape = np.array(iter_cls_id).reshape((nGpu, nIter))\n",
    "iter_img_id_balanced_qry = iter_img_id_reshape.tolist()\n",
    "iter_cls_id_balanced_qry = iter_cls_id_reshape.tolist()\n",
    "\n",
    "\n"
   ]
  },
  {
   "cell_type": "code",
   "execution_count": 36,
   "metadata": {},
   "outputs": [
    {
     "data": {
      "text/plain": [
       "40981"
      ]
     },
     "execution_count": 36,
     "metadata": {},
     "output_type": "execute_result"
    }
   ],
   "source": [
    "len(np.unique(iter_img_id_balanced_qry[0]))"
   ]
  },
  {
   "cell_type": "code",
   "execution_count": 54,
   "metadata": {},
   "outputs": [],
   "source": [
    "len_epoch = len(all_tail_images_step1)+int(sum(avg_sample_num))\n",
    "ann_num_balanced = [0]*(nBase + nStep*Step)\n",
    "for idx, img in zip(iter_cls_id_reshape[1][len_epoch*0:len_epoch*4], iter_img_id_reshape[1][len_epoch*0:len_epoch*4]):\n",
    "    class_i = id_step1[idx-1]\n",
    "    ann_ids = coco_step1.coco.getAnnIds(imgIds=coco_step1.id_to_img_map[img], catIds = class_i,iscrowd=None)    \n",
    "    anno = coco_step1.coco.loadAnns(ann_ids)\n",
    "    ann_num_balanced[idx-1] += len(anno)"
   ]
  },
  {
   "cell_type": "code",
   "execution_count": 55,
   "metadata": {},
   "outputs": [
    {
     "data": {
      "text/plain": [
       "41499"
      ]
     },
     "execution_count": 55,
     "metadata": {},
     "output_type": "execute_result"
    }
   ],
   "source": [
    "len_epoch"
   ]
  },
  {
   "cell_type": "code",
   "execution_count": 56,
   "metadata": {
    "scrolled": true
   },
   "outputs": [
    {
     "data": {
      "image/png": "[encoded data removed]",
      "text/plain": [
       "<Figure size 1440x504 with 1 Axes>"
      ]
     },
     "metadata": {
      "needs_background": "light"
     },
     "output_type": "display_data"
    }
   ],
   "source": [
    "import matplotlib\n",
    "%matplotlib inline\n",
    "import pylab\n",
    "import matplotlib.pyplot as plt\n",
    "from matplotlib.ticker import  MultipleLocator\n",
    "# matplotlib.use('Agg')\n",
    "\n",
    "plt.rcParams['xtick.direction'] = 'in'\n",
    "plt.rcParams['ytick.direction'] = 'in'\n",
    "pylab.rcParams['figure.figsize'] = (20.0, 7.0)\n",
    "\n",
    "# x1=range(nBase+(Step-1)*nStep,nBase+Step*nStep)\n",
    "x1=range(nBase+Step*nStep)\n",
    "y1=ann_num_balanced\n",
    "# y1=ann_num[-nStep:]\n",
    "\n",
    "# x2=range(nBase+(Step-1)*nStep)\n",
    "# y2=ann_num_replay\n",
    "\n",
    "fig = plt.figure()\n",
    "ax = fig.gca()\n",
    "\n",
    "ymajorLocator = MultipleLocator(200)     \n",
    "yminorLocator = MultipleLocator(100)       \n",
    "ax.yaxis.set_major_locator(ymajorLocator)       \n",
    "ax.yaxis.set_minor_locator(yminorLocator)\n",
    "# ax.set_ylim([0,2000])\n",
    "plt.plot(x1,y1, linewidth=3.0)\n",
    "# plt.plot(x2,y2, linewidth=3.0)\n",
    "\n",
    "\n",
    "plt.yscale('log') #choose log or not\n",
    "plt.xticks(fontsize=22)\n",
    "plt.yticks(fontsize=22)\n",
    "# 设置坐标标签字体大小\n",
    "\n",
    "font1 = {'family':'serif','weight': 'normal','size': 28}\n",
    "ax.set_xlabel('Sorted category index', font1)\n",
    "ax.set_ylabel('Number of instances', font1)\n",
    "# plt.legend(frameon=False)\n",
    "\n",
    "plt.grid(linestyle='-.',which='both')\n",
    "ax.spines['top'].set_visible(False)\n",
    "ax.spines['right'].set_visible(False)\n",
    "ax.spines['bottom'].set_linewidth(2);###设置底部坐标轴的粗细\n",
    "ax.spines['left'].set_linewidth(2);####设置左边坐标轴的粗细"
   ]
  },
  {
   "cell_type": "code",
   "execution_count": 57,
   "metadata": {},
   "outputs": [
    {
     "data": {
      "text/plain": [
       "4"
      ]
     },
     "execution_count": 57,
     "metadata": {},
     "output_type": "execute_result"
    }
   ],
   "source": [
    "len(iter_img_id_balanced_qry[0])"
   ]
  },
  {
   "cell_type": "code",
   "execution_count": 58,
   "metadata": {},
   "outputs": [],
   "source": [
    "json.dump(iter_img_id_balanced_qry, open(os.path.join(save_path, 'lvis_indices_qry_step1_rand_balanced.json'), 'w'))\n",
    "json.dump(iter_cls_id_balanced_qry, open(os.path.join(save_path, 'lvis_classes_qry_step1_rand_balanced.json'), 'w'))\n"
   ]
  },
  {
   "cell_type": "code",
   "execution_count": null,
   "metadata": {},
   "outputs": [],
   "source": []
  }
 ],
 "metadata": {
  "kernelspec": {
   "display_name": "maskrcnn_benchmark",
   "language": "python",
   "name": "maskrcnn_benchmark"
  },
  "language_info": {
   "codemirror_mode": {
    "name": "ipython",
    "version": 3
   },
   "file_extension": ".py",
   "mimetype": "text/x-python",
   "name": "python",
   "nbconvert_exporter": "python",
   "pygments_lexer": "ipython3",
   "version": "3.6.9"
  }
 },
 "nbformat": 4,
 "nbformat_minor": 2
}
