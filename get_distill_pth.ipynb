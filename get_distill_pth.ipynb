{
 "cells": [
  {
   "cell_type": "code",
   "execution_count": 10,
   "metadata": {},
   "outputs": [],
   "source": [
    "import torch\n",
    "from torch import nn\n",
    "\n",
    "\"\"\"\n",
    "trim model for step_n training  (base_training: step_0)\n",
    "\"\"\"\n",
    "# base_size = 270\n",
    "# step_size = 160\n",
    "# step_n = 1\n",
    "\n",
    "def distill_maskrcnn_benchmark_model(model_path: str, trimmed_model_path: str):\n",
    "    state_dict = torch.load(model_path, map_location=\"cpu\")\n",
    "    model = state_dict['model']\n",
    "    \n",
    "    print(\"Deleting optimizer, scheduler, and iteration entries\")\n",
    "    del state_dict['optimizer']\n",
    "    del state_dict['scheduler']\n",
    "    del state_dict['iteration']\n",
    "    \n",
    "    torch.save(state_dict, trimmed_model_path)\n",
    "    print(f'saved to: {trimmed_model_path}')\n",
    "    \n",
    "    \n",
    "# def finetune_maskrcnn_benchmark_model(model_path: str, trimmed_model_path: str):\n",
    "#     state_dict = torch.load(model_path, map_location=\"cpu\")\n",
    "    \n",
    "#     model = state_dict['model']\n",
    "#     cls_weight_new = torch.Tensor((base_size+1)+step_size*step_n, 1024)\n",
    "#     nn.init.normal_(cls_weight_new, std=0.01)\n",
    "#     cls_weight_new[:(base_size+1)+step_size*(step_n-1)] = model['module.roi_heads.box.predictor.cls_score.weight']\n",
    "#     model['module.roi_heads.box.predictor.cls_score.weight'] = cls_weight_new\n",
    "    \n",
    "#     reg_weight_new = torch.Tensor(((base_size+1)+step_size*step_n)*4, 1024)\n",
    "#     nn.init.normal_(reg_weight_new, std=0.001)\n",
    "#     reg_weight_new[:((base_size+1)+step_size*(step_n-1))*4] = model['module.roi_heads.box.predictor.bbox_pred.weight']\n",
    "#     model['module.roi_heads.box.predictor.bbox_pred.weight'] = reg_weight_new\n",
    "    \n",
    "#     reg_bias_new = torch.Tensor(((base_size+1)+step_size*step_n)*4)\n",
    "#     nn.init.constant_(reg_bias_new, 0)\n",
    "#     reg_bias_new[:((base_size+1)+step_size*(step_n-1))*4] = model['module.roi_heads.box.predictor.bbox_pred.bias']\n",
    "#     model['module.roi_heads.box.predictor.bbox_pred.bias'] = reg_bias_new\n",
    "    \n",
    "#     print(\"Also deleting optimizer, scheduler, and iteration entries\")\n",
    "#     del state_dict['optimizer']\n",
    "#     del state_dict['scheduler']\n",
    "#     del state_dict['iteration']\n",
    "    \n",
    "#     torch.save(state_dict, trimmed_model_path)\n",
    "#     print(f'saved to: {trimmed_model_path}')\n",
    "    "
   ]
  },
  {
   "cell_type": "code",
   "execution_count": 12,
   "metadata": {},
   "outputs": [],
   "source": [
    "model_path = \"/mnt/data-disk2/xinting/project/maskxrcnn_finetune/ckps/ckp-top270_freeze2_trained_rpn/model_0150000.pth\"\n",
    "\n",
    "distilled_model_path = \"/mnt/data-disk2/xinting/project/maskxrcnn_finetune/ckps/ckp-top270_freeze2_trained_rpn/model_0150000_for_distill_step1.pth\"\n",
    "distill_maskrcnn_benchmark_model(model_path, distilled_model_path)\n",
    "\n",
    "# finetuned_model_path = \"/mnt/data-disk2/xinting/project/maskxrcnn_finetune/ckps/ckp-top270_freeze2_trained_rpn/model_0150000_for_finetune_step1.pth\"\n",
    "# finetune_maskrcnn_benchmark_model(model_path, finetuned_model_path)"
   ]
  },
  {
   "cell_type": "code",
   "execution_count": null,
   "metadata": {},
   "outputs": [],
   "source": []
  }
 ],
 "metadata": {
  "kernelspec": {
   "display_name": "maskrcnn_benchmark",
   "language": "python",
   "name": "maskrcnn_benchmark"
  },
  "language_info": {
   "codemirror_mode": {
    "name": "ipython",
    "version": 3
   },
   "file_extension": ".py",
   "mimetype": "text/x-python",
   "name": "python",
   "nbconvert_exporter": "python",
   "pygments_lexer": "ipython3",
   "version": "3.6.9"
  }
 },
 "nbformat": 4,
 "nbformat_minor": 2
}
