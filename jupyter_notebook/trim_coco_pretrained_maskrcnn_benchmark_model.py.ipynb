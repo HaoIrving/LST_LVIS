{
 "cells": [
  {
   "cell_type": "code",
   "execution_count": 1,
   "metadata": {},
   "outputs": [],
   "source": [
    "import torch\n",
    "from torch import nn\n",
    "\n",
    "keys_to_remove = [\n",
    "    'module.roi_heads.box.predictor.cls_score.weight',\n",
    "    'module.roi_heads.box.predictor.cls_score.bias', \n",
    "    'module.roi_heads.box.predictor.bbox_pred.weight',\n",
    "    'module.roi_heads.box.predictor.bbox_pred.bias',\n",
    "    'module.roi_heads.mask.predictor.mask_fcn_logits.weight', # mask\n",
    "    'module.roi_heads.mask.predictor.mask_fcn_logits.bias'    # mask\n",
    "]\n",
    "\n",
    "def trim_maskrcnn_benchmark_model(model_path: str, trimmed_model_path: str):\n",
    "    state_dict = torch.load(model_path, map_location=\"cpu\")\n",
    "    \n",
    "    model = state_dict['model']\n",
    "    \n",
    "    for key in keys_to_remove:\n",
    "        if key in model:\n",
    "            del model[key]\n",
    "            print('key: {} is removed'.format(key))\n",
    "        else:\n",
    "            print('key: {} is not present'.format(key))\n",
    "\n",
    "    print(\"Also deleting optimizer, scheduler, and iteration entries\")\n",
    "    del state_dict['optimizer']\n",
    "    del state_dict['scheduler']\n",
    "    del state_dict['iteration']\n",
    "    \n",
    "    torch.save(state_dict, trimmed_model_path)\n",
    "    print(f'saved to: {trimmed_model_path}')\n",
    "    \n",
    "# usage example:\n",
    "#model_path = \"../maskrcnn-benchmark/models/e2e_mask_rcnn_R_50_FPN_1x.pth\"\n",
    "#trimmed_model_path = \"../maskrcnn-benchmark/models/e2e_mask_rcnn_R_50_FPN_1x_trimmed.pth\"\n",
    "#trim_maskrcnn_benchmark_model(model_path, trimmed_model_path)"
   ]
  },
  {
   "cell_type": "code",
   "execution_count": null,
   "metadata": {},
   "outputs": [],
   "source": []
  }
 ],
 "metadata": {
  "kernelspec": {
   "display_name": "maskrcnn_benchmark",
   "language": "python",
   "name": "maskrcnn_benchmark"
  },
  "language_info": {
   "codemirror_mode": {
    "name": "ipython",
    "version": 3
   },
   "file_extension": ".py",
   "mimetype": "text/x-python",
   "name": "python",
   "nbconvert_exporter": "python",
   "pygments_lexer": "ipython3",
   "version": "3.6.9"
  }
 },
 "nbformat": 4,
 "nbformat_minor": 2
}
