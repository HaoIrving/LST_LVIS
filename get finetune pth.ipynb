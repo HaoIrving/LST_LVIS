{
 "cells": [
  {
   "cell_type": "code",
   "execution_count": 4,
   "metadata": {},
   "outputs": [],
   "source": [
    "import torch\n",
    "from torch import nn\n",
    "\n",
    "def change_maskrcnn_benchmark_model(model_path: str, trimmed_model_path: str):\n",
    "    state_dict = torch.load(model_path, map_location=\"cpu\")\n",
    "    \n",
    "    model = state_dict['model']\n",
    "    cls_weight_new = torch.Tensor(271+320*3, 1024)\n",
    "    nn.init.normal_(cls_weight_new, std=0.01)\n",
    "    cls_weight_new[:271+320*2] = model['module.roi_heads.box.predictor.cls_score.weight']\n",
    "    model['module.roi_heads.box.predictor.cls_score.weight'] = cls_weight_new\n",
    "    \n",
    "    mask_weight_new = torch.Tensor(271+320*3, 256, 1, 1)\n",
    "    nn.init.normal_(mask_weight_new, std=0.01)\n",
    "    mask_weight_new[:271+320*2] = model['module.roi_heads.mask.predictor.mask_fcn_logits.weight']\n",
    "    model['module.roi_heads.mask.predictor.mask_fcn_logits.weight'] = mask_weight_new\n",
    "    \n",
    "    mask_bias_new = torch.Tensor(271+320*3)\n",
    "    nn.init.normal_(mask_bias_new, std=0.01)\n",
    "    mask_bias_new[:271+320*2] = model['module.roi_heads.mask.predictor.mask_fcn_logits.bias']\n",
    "    model['module.roi_heads.mask.predictor.mask_fcn_logits.bias'] = mask_bias_new\n",
    "    \n",
    "    \n",
    "    reg_weight_new = torch.Tensor((271+320*3)*4, 1024)\n",
    "    nn.init.normal_(reg_weight_new, std=0.001)\n",
    "    reg_weight_new[:(271+320*2)*4] = model['module.roi_heads.box.predictor.bbox_pred.weight']\n",
    "    model['module.roi_heads.box.predictor.bbox_pred.weight'] = reg_weight_new\n",
    "    \n",
    "    reg_bias_new = torch.Tensor((271+320*3)*4)\n",
    "    nn.init.constant_(reg_bias_new, 0)\n",
    "    reg_bias_new[:(271+320*2)*4] = model['module.roi_heads.box.predictor.bbox_pred.bias']\n",
    "    model['module.roi_heads.box.predictor.bbox_pred.bias'] = reg_bias_new\n",
    "    \n",
    "#     import pdb; pdb.set_trace()\n",
    "#     for key in keys_to_change:\n",
    "#         if key in model:\n",
    "\n",
    "#             weight_ex = torch.Tensor(141+40+40+40, 1024)\n",
    "#             nn.init.normal_(weight_ex, std=0.01)\n",
    "#             weight_ex[:141+40+40] = model[key][:141+40+40]\n",
    "# #             weight_ex= torch.tensor(step2_cls_weights)\n",
    "#             model[key] = weight_ex\n",
    "#             print('key: {} is changed'.format(key))\n",
    "#         else:\n",
    "#             print('key: {} is not present'.format(key))\n",
    "\n",
    "    print(\"Also deleting optimizer, scheduler, and iteration entries\")\n",
    "    del state_dict['optimizer']\n",
    "    del state_dict['scheduler']\n",
    "    del state_dict['iteration']\n",
    "    \n",
    "    torch.save(state_dict, trimmed_model_path)\n",
    "    print(f'saved to: {trimmed_model_path}')"
   ]
  },
  {
   "cell_type": "code",
   "execution_count": 5,
   "metadata": {},
   "outputs": [],
   "source": [
    "model_path = \"/gruntdata0/xinting/project/LVIS_new/maskxrcnn_finetune/ckps/ckp-step2_freeze4_wo_distill_balance_320/model_0008000.pth\"\n",
    "state_dict = torch.load(model_path, map_location=\"cpu\")\n",
    "model = state_dict['model']\n",
    "trimmed_model_path = \"/gruntdata0/xinting/project/LVIS_new/maskxrcnn_finetune/ckps/ckp-step2_freeze4_wo_distill_balance_320/model_0008000_for_finetune.pth\"\n",
    "# /mnt/data-disk0/xinting/LVIS/maskrcnn-benchmark/ckp-fewshot-novel"
   ]
  },
  {
   "cell_type": "code",
   "execution_count": 6,
   "metadata": {},
   "outputs": [
    {
     "name": "stdout",
     "output_type": "stream",
     "text": [
      "Also deleting optimizer, scheduler, and iteration entries\n",
      "saved to: /gruntdata0/xinting/project/LVIS_new/maskxrcnn_finetune/ckps/ckp-step2_freeze4_wo_distill_balance_320/model_0008000_for_finetune.pth\n"
     ]
    }
   ],
   "source": [
    "change_maskrcnn_benchmark_model(model_path, trimmed_model_path)"
   ]
  },
  {
   "cell_type": "code",
   "execution_count": null,
   "metadata": {},
   "outputs": [],
   "source": []
  }
 ],
 "metadata": {
  "kernelspec": {
   "display_name": "maskrcnn_benchmark",
   "language": "python",
   "name": "maskrcnn_benchmark"
  },
  "language_info": {
   "codemirror_mode": {
    "name": "ipython",
    "version": 3
   },
   "file_extension": ".py",
   "mimetype": "text/x-python",
   "name": "python",
   "nbconvert_exporter": "python",
   "pygments_lexer": "ipython3",
   "version": "3.6.9"
  }
 },
 "nbformat": 4,
 "nbformat_minor": 2
}
